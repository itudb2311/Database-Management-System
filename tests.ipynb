{
 "cells": [
  {
   "cell_type": "code",
   "execution_count": 1,
   "metadata": {},
   "outputs": [],
   "source": [
    "import mysql.connector\n",
    "from mysql.connector import Error\n",
    "import pandas as pd\n"
   ]
  },
  {
   "cell_type": "code",
   "execution_count": 16,
   "metadata": {},
   "outputs": [],
   "source": [
    "def create_connection(host_name, user_name, user_password, db_name):\n",
    "    connection = None\n",
    "    try:\n",
    "        connection = mysql.connector.connect(\n",
    "            host=host_name,\n",
    "            user=user_name,\n",
    "            passwd=user_password,\n",
    "            database=db_name,\n",
    "            auth_plugin='mysql_native_password'\n",
    "        )\n",
    "        print(\"MySQL Database connection successful\")\n",
    "    except Error as err:\n",
    "        print(f\"Error: '{err}'\")\n",
    "\n",
    "    return connection"
   ]
  },
  {
   "cell_type": "code",
   "execution_count": 17,
   "metadata": {},
   "outputs": [
    {
     "name": "stdout",
     "output_type": "stream",
     "text": [
      "MySQL Database connection successful\n"
     ]
    }
   ],
   "source": [
    "conn = create_connection(\"localhost\", \"root\", \"...\", \"thelook_ecommerce\")"
   ]
  },
  {
   "cell_type": "code",
   "execution_count": 18,
   "metadata": {},
   "outputs": [
    {
     "name": "stdout",
     "output_type": "stream",
     "text": [
      "(1, 'Memphis TN', '35,1174', '-89,9711')\n",
      "(2, 'Chicago IL', '41,8369', '-87,6847')\n",
      "(3, 'Houston TX', '29,7604', '-95,3698')\n",
      "(4, 'Los Angeles CA', '34,05', '-118,25')\n",
      "(5, 'New Orleans LA', '29,95', '-90,0667')\n",
      "(6, 'Port Authority of New York/New Jersey NY/NJ', '40,634', '-73,7834')\n",
      "(7, 'Philadelphia PA', '39,95', '-75,1667')\n",
      "(8, 'Mobile AL', '30,6944', '-88,0431')\n",
      "(9, 'Charleston SC', '32,7833', '-79,9333')\n",
      "(10, 'Savannah GA', '32,0167', '-81,1167')\n"
     ]
    }
   ],
   "source": [
    "mycursor = conn.cursor()\n",
    "\n",
    "mycursor.execute(\"SELECT * FROM thelook_ecommerce.distribution_centers\")\n",
    "\n",
    "for x in mycursor:\n",
    "  print(x)"
   ]
  },
  {
   "cell_type": "code",
   "execution_count": 19,
   "metadata": {},
   "outputs": [],
   "source": [
    "def insert_query(conn, data, table):\n",
    "    cursor = conn.cursor()\n",
    "    placeholders = ', '.join(['%s'] * len(data))\n",
    "    columns = ', '.join(data.keys())\n",
    "    sql = \"INSERT INTO %s ( %s ) VALUES ( %s )\" % (table, columns, placeholders)\n",
    "    cursor.execute(sql, list(data.values()))\n",
    "    conn.commit()\n",
    "    cursor.close()\n"
   ]
  },
  {
   "cell_type": "code",
   "execution_count": 20,
   "metadata": {},
   "outputs": [],
   "source": [
    "data = {\n",
    "    'id': 1,\n",
    "    'name': 'test',\n",
    "    'latitude': '1',\n",
    "    'longitude': '1',\n",
    "}\n",
    "insert_query(conn, data, 'distribution_centers')"
   ]
  },
  {
   "cell_type": "code",
   "execution_count": 25,
   "metadata": {},
   "outputs": [
    {
     "name": "stdout",
     "output_type": "stream",
     "text": [
      "('id', b'int', 'YES', bytearray(b''), None, '')\n",
      "('user_id', b'text', 'YES', bytearray(b''), None, '')\n",
      "('sequence_number', b'int', 'YES', bytearray(b''), None, '')\n",
      "('session_id', b'text', 'YES', bytearray(b''), None, '')\n",
      "('created_at', b'text', 'YES', bytearray(b''), None, '')\n",
      "('ip_address', b'text', 'YES', bytearray(b''), None, '')\n",
      "('city', b'text', 'YES', bytearray(b''), None, '')\n",
      "('state', b'text', 'YES', bytearray(b''), None, '')\n",
      "('postal_code', b'int', 'YES', bytearray(b''), None, '')\n",
      "('browser', b'text', 'YES', bytearray(b''), None, '')\n",
      "('traffic_source', b'text', 'YES', bytearray(b''), None, '')\n",
      "('uri', b'text', 'YES', bytearray(b''), None, '')\n",
      "('event_type', b'text', 'YES', bytearray(b''), None, '')\n"
     ]
    }
   ],
   "source": [
    "mycursor = conn.cursor()\n",
    "\n",
    "mycursor.execute(\"show columns FROM thelook_ecommerce.events\")\n",
    "\n",
    "for x in mycursor:\n",
    "  print(x)"
   ]
  },
  {
   "cell_type": "code",
   "execution_count": null,
   "metadata": {},
   "outputs": [],
   "source": []
  }
 ],
 "metadata": {
  "kernelspec": {
   "display_name": "base",
   "language": "python",
   "name": "python3"
  },
  "language_info": {
   "codemirror_mode": {
    "name": "ipython",
    "version": 3
   },
   "file_extension": ".py",
   "mimetype": "text/x-python",
   "name": "python",
   "nbconvert_exporter": "python",
   "pygments_lexer": "ipython3",
   "version": "3.9.15"
  }
 },
 "nbformat": 4,
 "nbformat_minor": 2
}
